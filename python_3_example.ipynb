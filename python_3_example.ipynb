{
  "nbformat": 4,
  "nbformat_minor": 0,
  "metadata": {
    "colab": {
      "provenance": [],
      "authorship_tag": "ABX9TyP9Bmd8sScvqJJfAtmtgXvd",
      "include_colab_link": true
    },
    "kernelspec": {
      "name": "python3",
      "display_name": "Python 3"
    },
    "language_info": {
      "name": "python"
    }
  },
  "cells": [
    {
      "cell_type": "markdown",
      "metadata": {
        "id": "view-in-github",
        "colab_type": "text"
      },
      "source": [
        "<a href=\"https://colab.research.google.com/github/modiboscowilson/CITI_Statistical_modelling/blob/main/python_3_example.ipynb\" target=\"_parent\"><img src=\"https://colab.research.google.com/assets/colab-badge.svg\" alt=\"Open In Colab\"/></a>"
      ]
    },
    {
      "cell_type": "markdown",
      "source": [
        "calculate area based on user input"
      ],
      "metadata": {
        "id": "YziZuD9FB-f5"
      }
    },
    {
      "cell_type": "code",
      "source": [
        "#rectangle\n",
        "def rectangle(length:float , width:float):\n",
        "  return(length*width)\n",
        "  result=rectangle(length,width)\n",
        "  print(result)"
      ],
      "metadata": {
        "id": "ZtZz57zCL249"
      },
      "execution_count": null,
      "outputs": []
    },
    {
      "cell_type": "code",
      "source": [
        "#circle\n",
        "def circle(radius:float):\n",
        "  return(3.14*radius*radius)\n",
        "  result=circle(radius)\n",
        "  print(result)"
      ],
      "metadata": {
        "id": "Ck9_DbIGMf-K"
      },
      "execution_count": null,
      "outputs": []
    },
    {
      "cell_type": "code",
      "source": [
        "#square\n",
        "def square(side:float ):\n",
        "  return(side*side)\n",
        "  result=square(side)\n",
        "  print(result)"
      ],
      "metadata": {
        "id": "7vewXIlMM5NK"
      },
      "execution_count": null,
      "outputs": []
    },
    {
      "cell_type": "code",
      "source": [
        "#input names of shapes to calculate the area\n",
        "shape=input((\"enter the name 'S','C','R' of shape\"))\n",
        "if shape == \"C\":\n",
        "  radius=float(input(\"enter the radius\"))\n",
        "  area_of_circle =circle(radius)\n",
        "  print(\"the area of shape is\",area_of_circle)\n",
        "\n",
        " if shape == \"R\":\n",
        "    length=float(input(\"enter the length\"))\n",
        "     width=float(input(\"enter the width\"))\n",
        "  area_of_rectangle =rectangle(length,width)\n",
        "  print(\"the area of shape is\",area_of_rectangle)\n",
        "\n",
        " if shape == \"S\":\n",
        "  side=float(input(\"enter the side\"))\n",
        "  area_of_square =square(side)\n",
        "  print(\"the area of shape is\",area_of_square)"
      ],
      "metadata": {
        "colab": {
          "base_uri": "https://localhost:8080/",
          "height": 130
        },
        "id": "h9zyliZENS6D",
        "outputId": "f9de4538-a2db-4da5-f01d-b3ad8e3b7003"
      },
      "execution_count": 38,
      "outputs": [
        {
          "output_type": "error",
          "ename": "IndentationError",
          "evalue": "ignored",
          "traceback": [
            "\u001b[0;36m  File \u001b[0;32m\"<tokenize>\"\u001b[0;36m, line \u001b[0;32m8\u001b[0m\n\u001b[0;31m    if shape == \"R\":\u001b[0m\n\u001b[0m    ^\u001b[0m\n\u001b[0;31mIndentationError\u001b[0m\u001b[0;31m:\u001b[0m unindent does not match any outer indentation level\n"
          ]
        }
      ]
    }
  ]
}