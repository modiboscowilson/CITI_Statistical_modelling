{
  "cells": [
    {
      "cell_type": "markdown",
      "metadata": {
        "id": "view-in-github",
        "colab_type": "text"
      },
      "source": [
        "<a href=\"https://colab.research.google.com/github/modiboscowilson/CITI_Statistical_modelling/blob/main/python_3_example.ipynb\" target=\"_parent\"><img src=\"https://colab.research.google.com/assets/colab-badge.svg\" alt=\"Open In Colab\"/></a>"
      ]
    },
    {
      "cell_type": "markdown",
      "metadata": {
        "id": "YziZuD9FB-f5"
      },
      "source": [
        "calculate area based on user input"
      ]
    },
    {
      "cell_type": "code",
      "execution_count": null,
      "metadata": {
        "id": "ZtZz57zCL249"
      },
      "outputs": [],
      "source": [
        "#rectangle\n",
        "def rectangle(length:float , width:float):\n",
        "  return(length*width)\n",
        "  result=rectangle(length,width)\n",
        "  print(result)"
      ]
    },
    {
      "cell_type": "code",
      "execution_count": null,
      "metadata": {
        "id": "Ck9_DbIGMf-K"
      },
      "outputs": [],
      "source": [
        "#circle\n",
        "def circle(radius:float):\n",
        "  return(3.14*radius*radius)\n",
        "  result=circle(radius)\n",
        "  print(result)"
      ]
    },
    {
      "cell_type": "code",
      "execution_count": null,
      "metadata": {
        "id": "7vewXIlMM5NK"
      },
      "outputs": [],
      "source": [
        "#square\n",
        "def square(side:float ):\n",
        "  return(side*side)\n",
        "  result=square(side)\n",
        "  print(result)"
      ]
    },
    {
      "cell_type": "code",
      "execution_count": null,
      "metadata": {
        "colab": {
          "background_save": true
        },
        "id": "h9zyliZENS6D"
      },
      "outputs": [],
      "source": [
        "#input names of shapes to calculate the area\n",
        "shape=input((\"enter the name of shape\"))\n",
        "if shape == (\"C\"):\n",
        "  radius=float(input(\"enter the radius\"))\n",
        "  area_of_circle =circle(radius)\n",
        "  print(\"the area of shape is\",area_of_circle)\n"
      ]
    },
    {
      "cell_type": "code",
      "execution_count": null,
      "metadata": {
        "colab": {
          "background_save": true
        },
        "id": "BV3jX9eAQWLb"
      },
      "outputs": [],
      "source": [
        "if shape == (\"R\"):\n",
        "    length=float(input(\"enter the length\"))\n",
        "     width=float(input(\"enter the width\"))\n",
        "  area_of_rectangle =rectangle(length,width)\n",
        "  print(\"the area of shape is\",area_of_rectangle)"
      ]
    },
    {
      "cell_type": "code",
      "execution_count": null,
      "metadata": {
        "id": "tvduVgTuQcUS"
      },
      "outputs": [],
      "source": [
        " if shape == (\"S\")\n",
        "  side=float(input(\"enter the side\"))\n",
        "  area_of_square =square(side)\n",
        "  print(\"the area of shape is\",area_of_square)"
      ]
    }
  ],
  "metadata": {
    "colab": {
      "provenance": [],
      "authorship_tag": "ABX9TyOQHqBYIPtGVFDNdpXrurcr",
      "include_colab_link": true
    },
    "kernelspec": {
      "display_name": "Python 3",
      "name": "python3"
    },
    "language_info": {
      "name": "python"
    }
  },
  "nbformat": 4,
  "nbformat_minor": 0
}