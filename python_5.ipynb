{
  "nbformat": 4,
  "nbformat_minor": 0,
  "metadata": {
    "colab": {
      "provenance": [],
      "authorship_tag": "ABX9TyNVge3Gt5BiLCwQl/t6/+jx",
      "include_colab_link": true
    },
    "kernelspec": {
      "name": "python3",
      "display_name": "Python 3"
    },
    "language_info": {
      "name": "python"
    }
  },
  "cells": [
    {
      "cell_type": "markdown",
      "metadata": {
        "id": "view-in-github",
        "colab_type": "text"
      },
      "source": [
        "<a href=\"https://colab.research.google.com/github/modiboscowilson/CITI_Statistical_modelling/blob/main/python_5.ipynb\" target=\"_parent\"><img src=\"https://colab.research.google.com/assets/colab-badge.svg\" alt=\"Open In Colab\"/></a>"
      ]
    },
    {
      "cell_type": "code",
      "execution_count": null,
      "metadata": {
        "id": "KNkHoAwlVji-"
      },
      "outputs": [],
      "source": []
    },
    {
      "cell_type": "markdown",
      "source": [
        "more python examples"
      ],
      "metadata": {
        "id": "tMkAVybxWj_x"
      }
    },
    {
      "cell_type": "code",
      "source": [
        "#lists\n",
        "fruits=[\"apples\",\"mangoes\",\"oranges\",\"lemons\"]\n",
        "#accessing list elemnts\n",
        "print(fruits[2])\n",
        "print(fruits[0])\n",
        "#modifying or replacing list elements\n",
        "fruits[2]=\"pineapple\"\n",
        "print(fruits)\n",
        "#list operations\n",
        "#1add an element to middle of the list\n",
        "fruits.append(\"grape\")\n",
        "print(fruits)\n",
        "#2remove element from list\n",
        "fruits.remove(\"apples\")\n",
        "print(fruits)"
      ],
      "metadata": {
        "id": "4xSqrh20Wo8i"
      },
      "execution_count": null,
      "outputs": []
    },
    {
      "cell_type": "code",
      "source": [
        "#strings\n",
        "#string concatenation\n",
        "name=\"modi\"\n",
        "message=\"hello,\"+name+\"!\"\n",
        "print(message)\n",
        "#string slicing\n",
        "text = \"machine learning\"\n",
        "substring = text[0:7]\n",
        "print(substring)\n",
        "substring1 = text[-8:-1]\n",
        "print(substring1)\n"
      ],
      "metadata": {
        "id": "JLrf4LwRasCv"
      },
      "execution_count": null,
      "outputs": []
    },
    {
      "cell_type": "code",
      "source": [
        "my_name = \"modi bosco wilson\"\n",
        "substring3= my_name[0:4]\n",
        "print(substring3)"
      ],
      "metadata": {
        "id": "mNkq4Sqkd8Is",
        "outputId": "e8036822-5efe-430e-97e1-52cc3fb72fa4",
        "colab": {
          "base_uri": "https://localhost:8080/"
        }
      },
      "execution_count": 17,
      "outputs": [
        {
          "output_type": "stream",
          "name": "stdout",
          "text": [
            "modi\n"
          ]
        }
      ]
    },
    {
      "cell_type": "code",
      "source": [
        "#Tuples\n",
        "#Tuple creation\n",
        "person = (\"john\",25,\"USA\")\n",
        "print(person[0])#accessing tuple elements"
      ],
      "metadata": {
        "id": "8CSoyCzBeaK0"
      },
      "execution_count": null,
      "outputs": []
    },
    {
      "cell_type": "code",
      "source": [
        "#Dictionaries\n",
        "#modifying dictionary valves\n",
        "my_dictionary={'Alex':21,'Alnord':30}\n",
        "print(my_dictionary)\n",
        "#modify the dictionary\n",
        "my_dictionary['Alnord']=45\n",
        "print(my_dictionary)"
      ],
      "metadata": {
        "id": "TdDqORQ2fuRF",
        "outputId": "d45e842c-2b6b-4637-d3d3-3fa944676943",
        "colab": {
          "base_uri": "https://localhost:8080/"
        }
      },
      "execution_count": 21,
      "outputs": [
        {
          "output_type": "stream",
          "name": "stdout",
          "text": [
            "{'Alex': 21, 'Alnord': 30}\n",
            "{'Alex': 21, 'Alnord': 45}\n"
          ]
        }
      ]
    },
    {
      "cell_type": "code",
      "source": [
        "#sets\n",
        "#set creation\n",
        "fruits={\"apple\",\"banana\",\"orange\"}\n",
        "fruits.add(\"grape\")\n",
        "print(fruits)\n",
        "fruits.remove(\"banana\")\n",
        "print(fruits)"
      ],
      "metadata": {
        "id": "076ArC-ElV_i",
        "outputId": "9b4e3596-5400-4c2d-c47b-98df95477109",
        "colab": {
          "base_uri": "https://localhost:8080/"
        }
      },
      "execution_count": 23,
      "outputs": [
        {
          "output_type": "stream",
          "name": "stdout",
          "text": [
            "{'orange', 'banana', 'apple', 'grape'}\n",
            "{'orange', 'apple', 'grape'}\n"
          ]
        }
      ]
    }
  ]
}