{
  "nbformat": 4,
  "nbformat_minor": 0,
  "metadata": {
    "colab": {
      "provenance": [],
      "authorship_tag": "ABX9TyMhRvcFgG8x+AxeL+W88f/2",
      "include_colab_link": true
    },
    "kernelspec": {
      "name": "python3",
      "display_name": "Python 3"
    },
    "language_info": {
      "name": "python"
    }
  },
  "cells": [
    {
      "cell_type": "markdown",
      "metadata": {
        "id": "view-in-github",
        "colab_type": "text"
      },
      "source": [
        "<a href=\"https://colab.research.google.com/github/modiboscowilson/CITI_Statistical_modelling/blob/main/concrete_model.ipynb\" target=\"_parent\"><img src=\"https://colab.research.google.com/assets/colab-badge.svg\" alt=\"Open In Colab\"/></a>"
      ]
    },
    {
      "cell_type": "code",
      "execution_count": null,
      "metadata": {
        "id": "XAWT0G76MCam"
      },
      "outputs": [],
      "source": []
    },
    {
      "cell_type": "code",
      "source": [
        "import pandas as pd\n",
        "#series\n",
        "#creating series from a list\n",
        "data=[10,8,9,7,6,5]\n",
        "series=pd.Series(data)\n",
        "print(series)"
      ],
      "metadata": {
        "colab": {
          "base_uri": "https://localhost:8080/"
        },
        "id": "bj7XC9gfMFn5",
        "outputId": "ca21c7ee-b356-4148-f19b-c5d360dab52b"
      },
      "execution_count": 3,
      "outputs": [
        {
          "output_type": "stream",
          "name": "stdout",
          "text": [
            "0    10\n",
            "1     8\n",
            "2     9\n",
            "3     7\n",
            "4     6\n",
            "5     5\n",
            "dtype: int64\n"
          ]
        }
      ]
    },
    {
      "cell_type": "code",
      "source": [
        "import pandas as pd\n",
        "#creating data frames\n",
        "data={'Name':['modi','bosco','wilson'],'Age':[35,45,68],'District':['Mbale','Kampala','Tororo']}\n",
        "df = pd.DataFrame(data)\n",
        "print(df)"
      ],
      "metadata": {
        "id": "YJSIOmnANYg9"
      },
      "execution_count": null,
      "outputs": []
    },
    {
      "cell_type": "code",
      "source": [
        "import pandas as pd\n",
        "df = pd.read_csv(\"ConcreteStrengthData.csv\")\n",
        "print(df)"
      ],
      "metadata": {
        "colab": {
          "base_uri": "https://localhost:8080/"
        },
        "id": "UPz9Yi0uRvuk",
        "outputId": "8a76a374-37de-482e-dce2-aca0cb95e9c7"
      },
      "execution_count": 8,
      "outputs": [
        {
          "output_type": "stream",
          "name": "stdout",
          "text": [
            "      CementComponent   BlastFurnaceSlag  FlyAshComponent  WaterComponent  \\\n",
            "0                540.0               0.0              0.0           162.0   \n",
            "1                540.0               0.0              0.0           162.0   \n",
            "2                332.5             142.5              0.0           228.0   \n",
            "3                332.5             142.5              0.0           228.0   \n",
            "4                198.6             132.4              0.0           192.0   \n",
            "...                ...               ...              ...             ...   \n",
            "1025             276.4             116.0             90.3           179.6   \n",
            "1026             322.2               0.0            115.6           196.0   \n",
            "1027             148.5             139.4            108.6           192.7   \n",
            "1028             159.1             186.7              0.0           175.6   \n",
            "1029             260.9             100.5             78.3           200.6   \n",
            "\n",
            "      SuperplasticizerComponent  CoarseAggregateComponent  \\\n",
            "0                           2.5                    1040.0   \n",
            "1                           2.5                    1055.0   \n",
            "2                           0.0                     932.0   \n",
            "3                           0.0                     932.0   \n",
            "4                           0.0                     978.4   \n",
            "...                         ...                       ...   \n",
            "1025                        8.9                     870.1   \n",
            "1026                       10.4                     817.9   \n",
            "1027                        6.1                     892.4   \n",
            "1028                       11.3                     989.6   \n",
            "1029                        8.6                     864.5   \n",
            "\n",
            "      FineAggregateComponent  AgeInDays  Strength  \n",
            "0                      676.0         28     79.99  \n",
            "1                      676.0         28     61.89  \n",
            "2                      594.0        270     40.27  \n",
            "3                      594.0        365     41.05  \n",
            "4                      825.5        360     44.30  \n",
            "...                      ...        ...       ...  \n",
            "1025                   768.3         28     44.28  \n",
            "1026                   813.4         28     31.18  \n",
            "1027                   780.0         28     23.70  \n",
            "1028                   788.9         28     32.77  \n",
            "1029                   761.5         28     32.40  \n",
            "\n",
            "[1030 rows x 9 columns]\n"
          ]
        }
      ]
    },
    {
      "cell_type": "code",
      "source": [
        "df.head"
      ],
      "metadata": {
        "colab": {
          "base_uri": "https://localhost:8080/"
        },
        "id": "R2TWP0weTwW5",
        "outputId": "0d560ec5-2a46-4ed2-9c8a-864e74158325"
      },
      "execution_count": 9,
      "outputs": [
        {
          "output_type": "execute_result",
          "data": {
            "text/plain": [
              "<bound method NDFrame.head of       CementComponent   BlastFurnaceSlag  FlyAshComponent  WaterComponent  \\\n",
              "0                540.0               0.0              0.0           162.0   \n",
              "1                540.0               0.0              0.0           162.0   \n",
              "2                332.5             142.5              0.0           228.0   \n",
              "3                332.5             142.5              0.0           228.0   \n",
              "4                198.6             132.4              0.0           192.0   \n",
              "...                ...               ...              ...             ...   \n",
              "1025             276.4             116.0             90.3           179.6   \n",
              "1026             322.2               0.0            115.6           196.0   \n",
              "1027             148.5             139.4            108.6           192.7   \n",
              "1028             159.1             186.7              0.0           175.6   \n",
              "1029             260.9             100.5             78.3           200.6   \n",
              "\n",
              "      SuperplasticizerComponent  CoarseAggregateComponent  \\\n",
              "0                           2.5                    1040.0   \n",
              "1                           2.5                    1055.0   \n",
              "2                           0.0                     932.0   \n",
              "3                           0.0                     932.0   \n",
              "4                           0.0                     978.4   \n",
              "...                         ...                       ...   \n",
              "1025                        8.9                     870.1   \n",
              "1026                       10.4                     817.9   \n",
              "1027                        6.1                     892.4   \n",
              "1028                       11.3                     989.6   \n",
              "1029                        8.6                     864.5   \n",
              "\n",
              "      FineAggregateComponent  AgeInDays  Strength  \n",
              "0                      676.0         28     79.99  \n",
              "1                      676.0         28     61.89  \n",
              "2                      594.0        270     40.27  \n",
              "3                      594.0        365     41.05  \n",
              "4                      825.5        360     44.30  \n",
              "...                      ...        ...       ...  \n",
              "1025                   768.3         28     44.28  \n",
              "1026                   813.4         28     31.18  \n",
              "1027                   780.0         28     23.70  \n",
              "1028                   788.9         28     32.77  \n",
              "1029                   761.5         28     32.40  \n",
              "\n",
              "[1030 rows x 9 columns]>"
            ]
          },
          "metadata": {},
          "execution_count": 9
        }
      ]
    },
    {
      "cell_type": "markdown",
      "source": [
        "**Define the problem**\n",
        "\n",
        "Target Variable:strength\n",
        "Precdictable Variable: water etc\n",
        "\n",
        "The type of model:Supervised machine learning model"
      ],
      "metadata": {
        "id": "Xg0l5JCPbpL9"
      }
    },
    {
      "cell_type": "markdown",
      "source": [
        "**Explortory Data Analysis**\n",
        "\n"
      ],
      "metadata": {
        "id": "gGj0pJagcffw"
      }
    },
    {
      "cell_type": "code",
      "source": [
        "#looking at the distribution of the strength(target variable)\n",
        "df[\"Strength\"].hist()"
      ],
      "metadata": {
        "colab": {
          "base_uri": "https://localhost:8080/",
          "height": 447
        },
        "id": "75hkOyYUelQ1",
        "outputId": "b1a4a52a-9e88-4bb8-db49-6015529d9176"
      },
      "execution_count": 10,
      "outputs": [
        {
          "output_type": "execute_result",
          "data": {
            "text/plain": [
              "<Axes: >"
            ]
          },
          "metadata": {},
          "execution_count": 10
        },
        {
          "output_type": "display_data",
          "data": {
            "text/plain": [
              "<Figure size 640x480 with 1 Axes>"
            ],
            "image/png": "[encoded data removed]"
          },
          "metadata": {}
        }
      ]
    },
    {
      "cell_type": "markdown",
      "source": [
        "Result: The distribution of strength is satisfactory therefore this means we have sufficient number of rows for our model"
      ],
      "metadata": {
        "id": "j-P_KzISflog"
      }
    },
    {
      "cell_type": "code",
      "source": [
        "#summarised information of data\n",
        "df.info()"
      ],
      "metadata": {
        "colab": {
          "base_uri": "https://localhost:8080/"
        },
        "id": "WpP6dI8AjRMZ",
        "outputId": "7ad0a5d4-d878-4920-e3a5-13cbebd296d6"
      },
      "execution_count": 11,
      "outputs": [
        {
          "output_type": "stream",
          "name": "stdout",
          "text": [
            "<class 'pandas.core.frame.DataFrame'>\n",
            "RangeIndex: 1030 entries, 0 to 1029\n",
            "Data columns (total 9 columns):\n",
            " #   Column                     Non-Null Count  Dtype  \n",
            "---  ------                     --------------  -----  \n",
            " 0   CementComponent            1030 non-null   float64\n",
            " 1   BlastFurnaceSlag           1030 non-null   float64\n",
            " 2   FlyAshComponent            1030 non-null   float64\n",
            " 3   WaterComponent             1030 non-null   float64\n",
            " 4   SuperplasticizerComponent  1030 non-null   float64\n",
            " 5   CoarseAggregateComponent   1030 non-null   float64\n",
            " 6   FineAggregateComponent     1030 non-null   float64\n",
            " 7   AgeInDays                  1030 non-null   int64  \n",
            " 8   Strength                   1030 non-null   float64\n",
            "dtypes: float64(8), int64(1)\n",
            "memory usage: 72.5 KB\n"
          ]
        }
      ]
    },
    {
      "cell_type": "code",
      "source": [
        "#missing valves\n",
        "df.isnull().sum()"
      ],
      "metadata": {
        "colab": {
          "base_uri": "https://localhost:8080/"
        },
        "id": "NxQB73qWjphG",
        "outputId": "9811e094-b0f7-489f-9df1-67de74243592"
      },
      "execution_count": 16,
      "outputs": [
        {
          "output_type": "execute_result",
          "data": {
            "text/plain": [
              "CementComponent              0\n",
              "BlastFurnaceSlag             0\n",
              "FlyAshComponent              0\n",
              "WaterComponent               0\n",
              "SuperplasticizerComponent    0\n",
              "CoarseAggregateComponent     0\n",
              "FineAggregateComponent       0\n",
              "AgeInDays                    0\n",
              "Strength                     0\n",
              "dtype: int64"
            ]
          },
          "metadata": {},
          "execution_count": 16
        }
      ]
    },
    {
      "cell_type": "code",
      "source": [
        "#missing valves\n",
        "# df.isna()"
      ],
      "metadata": {
        "id": "3YZaepG6j4jV"
      },
      "execution_count": 14,
      "outputs": []
    },
    {
      "cell_type": "code",
      "source": [
        "#descriptive statistical details of the data\n",
        "df.describe()"
      ],
      "metadata": {
        "colab": {
          "base_uri": "https://localhost:8080/",
          "height": 364
        },
        "id": "nSBZvIrjk-T8",
        "outputId": "8178c189-2bdc-49ab-e381-42c3804af660"
      },
      "execution_count": 17,
      "outputs": [
        {
          "output_type": "execute_result",
          "data": {
            "text/plain": [
              "       CementComponent   BlastFurnaceSlag  FlyAshComponent  WaterComponent  \\\n",
              "count       1030.000000       1030.000000      1030.000000     1030.000000   \n",
              "mean         281.167864         73.895825        54.188350      181.567282   \n",
              "std          104.506364         86.279342        63.997004       21.354219   \n",
              "min          102.000000          0.000000         0.000000      121.800000   \n",
              "25%          192.375000          0.000000         0.000000      164.900000   \n",
              "50%          272.900000         22.000000         0.000000      185.000000   \n",
              "75%          350.000000        142.950000       118.300000      192.000000   \n",
              "max          540.000000        359.400000       200.100000      247.000000   \n",
              "\n",
              "       SuperplasticizerComponent  CoarseAggregateComponent  \\\n",
              "count                1030.000000               1030.000000   \n",
              "mean                    6.204660                972.918932   \n",
              "std                     5.973841                 77.753954   \n",
              "min                     0.000000                801.000000   \n",
              "25%                     0.000000                932.000000   \n",
              "50%                     6.400000                968.000000   \n",
              "75%                    10.200000               1029.400000   \n",
              "max                    32.200000               1145.000000   \n",
              "\n",
              "       FineAggregateComponent    AgeInDays     Strength  \n",
              "count             1030.000000  1030.000000  1030.000000  \n",
              "mean               773.580485    45.662136    35.817961  \n",
              "std                 80.175980    63.169912    16.705742  \n",
              "min                594.000000     1.000000     2.330000  \n",
              "25%                730.950000     7.000000    23.710000  \n",
              "50%                779.500000    28.000000    34.445000  \n",
              "75%                824.000000    56.000000    46.135000  \n",
              "max                992.600000   365.000000    82.600000  "
            ],
            "text/html": [
              "\n",
              "\n",
              "  <div id=\"df-0736d8ba-2fff-4e37-a375-78638fa80553\">\n",
              "    <div class=\"colab-df-container\">\n",
              "      <div>\n",
              "<style scoped>\n",
              "    .dataframe tbody tr th:only-of-type {\n",
              "        vertical-align: middle;\n",
              "    }\n",
              "\n",
              "    .dataframe tbody tr th {\n",
              "        vertical-align: top;\n",
              "    }\n",
              "\n",
              "    .dataframe thead th {\n",
              "        text-align: right;\n",
              "    }\n",
              "</style>\n",
              "<table border=\"1\" class=\"dataframe\">\n",
              "  <thead>\n",
              "    <tr style=\"text-align: right;\">\n",
              "      <th></th>\n",
              "      <th>CementComponent</th>\n",
              "      <th>BlastFurnaceSlag</th>\n",
              "      <th>FlyAshComponent</th>\n",
              "      <th>WaterComponent</th>\n",
              "      <th>SuperplasticizerComponent</th>\n",
              "      <th>CoarseAggregateComponent</th>\n",
              "      <th>FineAggregateComponent</th>\n",
              "      <th>AgeInDays</th>\n",
              "      <th>Strength</th>\n",
              "    </tr>\n",
              "  </thead>\n",
              "  <tbody>\n",
              "    <tr>\n",
              "      <th>count</th>\n",
              "      <td>1030.000000</td>\n",
              "      <td>1030.000000</td>\n",
              "      <td>1030.000000</td>\n",
              "      <td>1030.000000</td>\n",
              "      <td>1030.000000</td>\n",
              "      <td>1030.000000</td>\n",
              "      <td>1030.000000</td>\n",
              "      <td>1030.000000</td>\n",
              "      <td>1030.000000</td>\n",
              "    </tr>\n",
              "    <tr>\n",
              "      <th>mean</th>\n",
              "      <td>281.167864</td>\n",
              "      <td>73.895825</td>\n",
              "      <td>54.188350</td>\n",
              "      <td>181.567282</td>\n",
              "      <td>6.204660</td>\n",
              "      <td>972.918932</td>\n",
              "      <td>773.580485</td>\n",
              "      <td>45.662136</td>\n",
              "      <td>35.817961</td>\n",
              "    </tr>\n",
              "    <tr>\n",
              "      <th>std</th>\n",
              "      <td>104.506364</td>\n",
              "      <td>86.279342</td>\n",
              "      <td>63.997004</td>\n",
              "      <td>21.354219</td>\n",
              "      <td>5.973841</td>\n",
              "      <td>77.753954</td>\n",
              "      <td>80.175980</td>\n",
              "      <td>63.169912</td>\n",
              "      <td>16.705742</td>\n",
              "    </tr>\n",
              "    <tr>\n",
              "      <th>min</th>\n",
              "      <td>102.000000</td>\n",
              "      <td>0.000000</td>\n",
              "      <td>0.000000</td>\n",
              "      <td>121.800000</td>\n",
              "      <td>0.000000</td>\n",
              "      <td>801.000000</td>\n",
              "      <td>594.000000</td>\n",
              "      <td>1.000000</td>\n",
              "      <td>2.330000</td>\n",
              "    </tr>\n",
              "    <tr>\n",
              "      <th>25%</th>\n",
              "      <td>192.375000</td>\n",
              "      <td>0.000000</td>\n",
              "      <td>0.000000</td>\n",
              "      <td>164.900000</td>\n",
              "      <td>0.000000</td>\n",
              "      <td>932.000000</td>\n",
              "      <td>730.950000</td>\n",
              "      <td>7.000000</td>\n",
              "      <td>23.710000</td>\n",
              "    </tr>\n",
              "    <tr>\n",
              "      <th>50%</th>\n",
              "      <td>272.900000</td>\n",
              "      <td>22.000000</td>\n",
              "      <td>0.000000</td>\n",
              "      <td>185.000000</td>\n",
              "      <td>6.400000</td>\n",
              "      <td>968.000000</td>\n",
              "      <td>779.500000</td>\n",
              "      <td>28.000000</td>\n",
              "      <td>34.445000</td>\n",
              "    </tr>\n",
              "    <tr>\n",
              "      <th>75%</th>\n",
              "      <td>350.000000</td>\n",
              "      <td>142.950000</td>\n",
              "      <td>118.300000</td>\n",
              "      <td>192.000000</td>\n",
              "      <td>10.200000</td>\n",
              "      <td>1029.400000</td>\n",
              "      <td>824.000000</td>\n",
              "      <td>56.000000</td>\n",
              "      <td>46.135000</td>\n",
              "    </tr>\n",
              "    <tr>\n",
              "      <th>max</th>\n",
              "      <td>540.000000</td>\n",
              "      <td>359.400000</td>\n",
              "      <td>200.100000</td>\n",
              "      <td>247.000000</td>\n",
              "      <td>32.200000</td>\n",
              "      <td>1145.000000</td>\n",
              "      <td>992.600000</td>\n",
              "      <td>365.000000</td>\n",
              "      <td>82.600000</td>\n",
              "    </tr>\n",
              "  </tbody>\n",
              "</table>\n",
              "</div>\n",
              "      <button class=\"colab-df-convert\" onclick=\"convertToInteractive('df-0736d8ba-2fff-4e37-a375-78638fa80553')\"\n",
              "              title=\"Convert this dataframe to an interactive table.\"\n",
              "              style=\"display:none;\">\n",
              "\n",
              "  <svg xmlns=\"http://www.w3.org/2000/svg\" height=\"24px\"viewBox=\"0 0 24 24\"\n",
              "       width=\"24px\">\n",
              "    <path d=\"M0 0h24v24H0V0z\" fill=\"none\"/>\n",
              "    <path d=\"M18.56 5.44l.94 2.06.94-2.06 2.06-.94-2.06-.94-.94-2.06-.94 2.06-2.06.94zm-11 1L8.5 8.5l.94-2.06 2.06-.94-2.06-.94L8.5 2.5l-.94 2.06-2.06.94zm10 10l.94 2.06.94-2.06 2.06-.94-2.06-.94-.94-2.06-.94 2.06-2.06.94z\"/><path d=\"M17.41 7.96l-1.37-1.37c-.4-.4-.92-.59-1.43-.59-.52 0-1.04.2-1.43.59L10.3 9.45l-7.72 7.72c-.78.78-.78 2.05 0 2.83L4 21.41c.39.39.9.59 1.41.59.51 0 1.02-.2 1.41-.59l7.78-7.78 2.81-2.81c.8-.78.8-2.07 0-2.86zM5.41 20L4 18.59l7.72-7.72 1.47 1.35L5.41 20z\"/>\n",
              "  </svg>\n",
              "      </button>\n",
              "\n",
              "\n",
              "\n",
              "    <div id=\"df-b0091076-8548-47d0-900f-3d87a00ad9cd\">\n",
              "      <button class=\"colab-df-quickchart\" onclick=\"quickchart('df-b0091076-8548-47d0-900f-3d87a00ad9cd')\"\n",
              "              title=\"Suggest charts.\"\n",
              "              style=\"display:none;\">\n",
              "\n",
              "<svg xmlns=\"http://www.w3.org/2000/svg\" height=\"24px\"viewBox=\"0 0 24 24\"\n",
              "     width=\"24px\">\n",
              "    <g>\n",
              "        <path d=\"M19 3H5c-1.1 0-2 .9-2 2v14c0 1.1.9 2 2 2h14c1.1 0 2-.9 2-2V5c0-1.1-.9-2-2-2zM9 17H7v-7h2v7zm4 0h-2V7h2v10zm4 0h-2v-4h2v4z\"/>\n",
              "    </g>\n",
              "</svg>\n",
              "      </button>\n",
              "    </div>\n",
              "\n",
              "<style>\n",
              "  .colab-df-quickchart {\n",
              "    background-color: #E8F0FE;\n",
              "    border: none;\n",
              "    border-radius: 50%;\n",
              "    cursor: pointer;\n",
              "    display: none;\n",
              "    fill: #1967D2;\n",
              "    height: 32px;\n",
              "    padding: 0 0 0 0;\n",
              "    width: 32px;\n",
              "  }\n",
              "\n",
              "  .colab-df-quickchart:hover {\n",
              "    background-color: #E2EBFA;\n",
              "    box-shadow: 0px 1px 2px rgba(60, 64, 67, 0.3), 0px 1px 3px 1px rgba(60, 64, 67, 0.15);\n",
              "    fill: #174EA6;\n",
              "  }\n",
              "\n",
              "  [theme=dark] .colab-df-quickchart {\n",
              "    background-color: #3B4455;\n",
              "    fill: #D2E3FC;\n",
              "  }\n",
              "\n",
              "  [theme=dark] .colab-df-quickchart:hover {\n",
              "    background-color: #434B5C;\n",
              "    box-shadow: 0px 1px 3px 1px rgba(0, 0, 0, 0.15);\n",
              "    filter: drop-shadow(0px 1px 2px rgba(0, 0, 0, 0.3));\n",
              "    fill: #FFFFFF;\n",
              "  }\n",
              "</style>\n",
              "\n",
              "    <script>\n",
              "      async function quickchart(key) {\n",
              "        const containerElement = document.querySelector('#' + key);\n",
              "        const charts = await google.colab.kernel.invokeFunction(\n",
              "            'suggestCharts', [key], {});\n",
              "      }\n",
              "    </script>\n",
              "\n",
              "      <script>\n",
              "\n",
              "function displayQuickchartButton(domScope) {\n",
              "  let quickchartButtonEl =\n",
              "    domScope.querySelector('#df-b0091076-8548-47d0-900f-3d87a00ad9cd button.colab-df-quickchart');\n",
              "  quickchartButtonEl.style.display =\n",
              "    google.colab.kernel.accessAllowed ? 'block' : 'none';\n",
              "}\n",
              "\n",
              "        displayQuickchartButton(document);\n",
              "      </script>\n",
              "      <style>\n",
              "    .colab-df-container {\n",
              "      display:flex;\n",
              "      flex-wrap:wrap;\n",
              "      gap: 12px;\n",
              "    }\n",
              "\n",
              "    .colab-df-convert {\n",
              "      background-color: #E8F0FE;\n",
              "      border: none;\n",
              "      border-radius: 50%;\n",
              "      cursor: pointer;\n",
              "      display: none;\n",
              "      fill: #1967D2;\n",
              "      height: 32px;\n",
              "      padding: 0 0 0 0;\n",
              "      width: 32px;\n",
              "    }\n",
              "\n",
              "    .colab-df-convert:hover {\n",
              "      background-color: #E2EBFA;\n",
              "      box-shadow: 0px 1px 2px rgba(60, 64, 67, 0.3), 0px 1px 3px 1px rgba(60, 64, 67, 0.15);\n",
              "      fill: #174EA6;\n",
              "    }\n",
              "\n",
              "    [theme=dark] .colab-df-convert {\n",
              "      background-color: #3B4455;\n",
              "      fill: #D2E3FC;\n",
              "    }\n",
              "\n",
              "    [theme=dark] .colab-df-convert:hover {\n",
              "      background-color: #434B5C;\n",
              "      box-shadow: 0px 1px 3px 1px rgba(0, 0, 0, 0.15);\n",
              "      filter: drop-shadow(0px 1px 2px rgba(0, 0, 0, 0.3));\n",
              "      fill: #FFFFFF;\n",
              "    }\n",
              "  </style>\n",
              "\n",
              "      <script>\n",
              "        const buttonEl =\n",
              "          document.querySelector('#df-0736d8ba-2fff-4e37-a375-78638fa80553 button.colab-df-convert');\n",
              "        buttonEl.style.display =\n",
              "          google.colab.kernel.accessAllowed ? 'block' : 'none';\n",
              "\n",
              "        async function convertToInteractive(key) {\n",
              "          const element = document.querySelector('#df-0736d8ba-2fff-4e37-a375-78638fa80553');\n",
              "          const dataTable =\n",
              "            await google.colab.kernel.invokeFunction('convertToInteractive',\n",
              "                                                     [key], {});\n",
              "          if (!dataTable) return;\n",
              "\n",
              "          const docLinkHtml = 'Like what you see? Visit the ' +\n",
              "            '<a target=\"_blank\" href=https://colab.research.google.com/notebooks/data_table.ipynb>data table notebook</a>'\n",
              "            + ' to learn more about interactive tables.';\n",
              "          element.innerHTML = '';\n",
              "          dataTable['output_type'] = 'display_data';\n",
              "          await google.colab.output.renderOutput(dataTable, element);\n",
              "          const docLink = document.createElement('div');\n",
              "          docLink.innerHTML = docLinkHtml;\n",
              "          element.appendChild(docLink);\n",
              "        }\n",
              "      </script>\n",
              "    </div>\n",
              "  </div>\n"
            ]
          },
          "metadata": {},
          "execution_count": 17
        }
      ]
    },
    {
      "cell_type": "code",
      "source": [
        "#finding nunique valves\n",
        "df.nunique()"
      ],
      "metadata": {
        "colab": {
          "base_uri": "https://localhost:8080/"
        },
        "id": "kqMKx037mS7F",
        "outputId": "319e9174-ebec-4950-aa6c-9ad4f881497e"
      },
      "execution_count": 18,
      "outputs": [
        {
          "output_type": "execute_result",
          "data": {
            "text/plain": [
              "CementComponent              278\n",
              "BlastFurnaceSlag             185\n",
              "FlyAshComponent              156\n",
              "WaterComponent               195\n",
              "SuperplasticizerComponent    111\n",
              "CoarseAggregateComponent     284\n",
              "FineAggregateComponent       302\n",
              "AgeInDays                     14\n",
              "Strength                     845\n",
              "dtype: int64"
            ]
          },
          "metadata": {},
          "execution_count": 18
        }
      ]
    },
    {
      "cell_type": "markdown",
      "source": [
        "**Explortory Data Analysis Report**\n",
        "\n",
        "CementComponent               : continous,selected      \n",
        "BlastFurnaceSlag              : continous,selected         \n",
        "FlyAshComponent               : continous,selected      \n",
        "WaterComponent                : continous,selected      \n",
        "SuperplasticizerComponent     : continous,selected   \n",
        "CoarseAggregateComponent      : continous,selected   \n",
        "FineAggregateComponent        : continous,selected   \n",
        "AgeInDays                     : continous,selected   \n",
        "Strength                      : continous,selected   "
      ],
      "metadata": {
        "id": "-d3okL90nHP_"
      }
    }
  ]
}