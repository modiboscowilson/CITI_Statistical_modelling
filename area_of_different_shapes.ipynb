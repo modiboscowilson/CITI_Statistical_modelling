{
  "nbformat": 4,
  "nbformat_minor": 0,
  "metadata": {
    "colab": {
      "provenance": [],
      "authorship_tag": "ABX9TyNc/kXHagKBYF1m22OfExLR",
      "include_colab_link": true
    },
    "kernelspec": {
      "name": "python3",
      "display_name": "Python 3"
    },
    "language_info": {
      "name": "python"
    }
  },
  "cells": [
    {
      "cell_type": "markdown",
      "metadata": {
        "id": "view-in-github",
        "colab_type": "text"
      },
      "source": [
        "<a href=\"https://colab.research.google.com/github/modiboscowilson/CITI_Statistical_modelling/blob/main/area_of_different_shapes.ipynb\" target=\"_parent\"><img src=\"https://colab.research.google.com/assets/colab-badge.svg\" alt=\"Open In Colab\"/></a>"
      ]
    },
    {
      "cell_type": "code",
      "execution_count": null,
      "metadata": {
        "id": "1JayP3gvoIBY"
      },
      "outputs": [],
      "source": []
    },
    {
      "cell_type": "markdown",
      "source": [
        "calculating  area of different shapes based on user inputs"
      ],
      "metadata": {
        "id": "miNB_C4ipI2O"
      }
    },
    {
      "cell_type": "code",
      "source": [
        "# s is the letter input for square shape\n",
        "# r is the letter input for rectangle shape\n",
        "# c is the letter input for circle\n",
        "# l is the length of the square and rectangle\n",
        "# w is the width of the rectangle\n",
        "# 22/7 is the pi constant of the circle\n",
        "# t is the radius of the circle\n",
        "# calculate the area of the different shape based on user input of the letters\n",
        "letter=(\"s\",\"r\",\"c\")\n",
        "l=float(input(\"enter the length of the square\"))\n",
        "s=l*l\n",
        "print(\"please input the l\",s)\n",
        "l=float(input(\"enter the length of the rectangle\"))\n",
        "w=float(input(\"eneter the width of the rectangle\"))\n",
        "r=l*w\n",
        "print(\"please input the l and w\",r)\n",
        "t=float(input(\"enter the radius of the circle\"))\n",
        "c=((22/7)*t)\n",
        "print(\"please input the t\",c)\n",
        "area=(input(\"please enter the letter to determine the choice of the shape to calculate the area\"))\n",
        "if  letter==(\"s\"):\n",
        "  print(\"l*l\")\n",
        "elif  letter==(\"r\"):\n",
        "  print(\"l*w\")\n",
        "elif  letter==('c'):\n",
        "  print(\"22/7*t\")\n"
      ],
      "metadata": {
        "id": "EB5hjtaxpiqs"
      },
      "execution_count": null,
      "outputs": []
    }
  ]
}