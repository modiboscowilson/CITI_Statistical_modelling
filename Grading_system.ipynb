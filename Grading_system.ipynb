{
  "nbformat": 4,
  "nbformat_minor": 0,
  "metadata": {
    "colab": {
      "provenance": [],
      "authorship_tag": "ABX9TyPzzT6kGDqrxaVYoxRVB0z/",
      "include_colab_link": true
    },
    "kernelspec": {
      "name": "python3",
      "display_name": "Python 3"
    },
    "language_info": {
      "name": "python"
    }
  },
  "cells": [
    {
      "cell_type": "markdown",
      "metadata": {
        "id": "view-in-github",
        "colab_type": "text"
      },
      "source": [
        "<a href=\"https://colab.research.google.com/github/modiboscowilson/CITI_Statistical_modelling/blob/main/Grading_system.ipynb\" target=\"_parent\"><img src=\"https://colab.research.google.com/assets/colab-badge.svg\" alt=\"Open In Colab\"/></a>"
      ]
    },
    {
      "cell_type": "markdown",
      "source": [
        "Grading system for student"
      ],
      "metadata": {
        "id": "JOfzeiZuYve3"
      }
    },
    {
      "cell_type": "code",
      "source": [
        "#finding out the grading system of students marks.\n",
        "\n",
        "if mark >=(90-100):\n",
        "  print(A)\n",
        "elif mark>=(70-89):\n",
        "  print(B)\n",
        "elif mark>=(50-69):\n",
        "  print(C)\n",
        "elif mark>=(45-49):\n",
        "  print(D)\n",
        "elif mark>=(40-44):\n",
        "  print(E)\n",
        "else:\n",
        "  print(F)\n"
      ],
      "metadata": {
        "colab": {
          "base_uri": "https://localhost:8080/",
          "height": 130
        },
        "id": "RJkl2eN5adJB",
        "outputId": "aaa07d45-ce84-4254-dede-836dc635d3a0"
      },
      "execution_count": 3,
      "outputs": [
        {
          "output_type": "error",
          "ename": "IndentationError",
          "evalue": "ignored",
          "traceback": [
            "\u001b[0;36m  File \u001b[0;32m\"<ipython-input-3-700b436482a3>\"\u001b[0;36m, line \u001b[0;32m2\u001b[0m\n\u001b[0;31m    mark=(0-100)\u001b[0m\n\u001b[0m    ^\u001b[0m\n\u001b[0;31mIndentationError\u001b[0m\u001b[0;31m:\u001b[0m unexpected indent\n"
          ]
        }
      ]
    }
  ]
}