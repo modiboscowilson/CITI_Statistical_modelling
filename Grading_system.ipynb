{
  "nbformat": 4,
  "nbformat_minor": 0,
  "metadata": {
    "colab": {
      "provenance": [],
      "authorship_tag": "ABX9TyPclrzeFy+mfyvHGqJ0olKo",
      "include_colab_link": true
    },
    "kernelspec": {
      "name": "python3",
      "display_name": "Python 3"
    },
    "language_info": {
      "name": "python"
    }
  },
  "cells": [
    {
      "cell_type": "markdown",
      "metadata": {
        "id": "view-in-github",
        "colab_type": "text"
      },
      "source": [
        "<a href=\"https://colab.research.google.com/github/modiboscowilson/CITI_Statistical_modelling/blob/main/Grading_system.ipynb\" target=\"_parent\"><img src=\"https://colab.research.google.com/assets/colab-badge.svg\" alt=\"Open In Colab\"/></a>"
      ]
    },
    {
      "cell_type": "markdown",
      "source": [
        "Grading system for student"
      ],
      "metadata": {
        "id": "JOfzeiZuYve3"
      }
    },
    {
      "cell_type": "code",
      "source": [
        "#Calculate the grade of students when percentage is given\n",
        "#percentage above 90 print grade A\n",
        "#perecntage above 70 print grade B\n",
        "#percentage above 50 print grade C\n",
        "#percentage above 45 print grade D\n",
        "#percentage above 40 print grade E\n",
        "#percentage below 39 print FAIL\n",
        "per=float(input(\"enter the percentage of students to obtain grade\"))\n",
        "if per>=90 and per<100:\n",
        "  print(\"grade A\")\n",
        "elif per>=70 and per<90:\n",
        "  print(\"grade B\")\n",
        "elif per>=50 and per<70:\n",
        "  print(\"grade C\")\n",
        "elif per>=45 and per<50:\n",
        "  print(\"grade D\")\n",
        "elif per>=40 and per<45:\n",
        "  print(\"grade E\")\n",
        "elif per<39:\n",
        "  print(\"FAIL\")\n",
        "else:\n",
        "  print(\"invaid\")"
      ],
      "metadata": {
        "id": "LFCbv5PH0ik9",
        "colab": {
          "base_uri": "https://localhost:8080/"
        },
        "outputId": "b2acc2b2-18ec-4c55-962d-aeabfb8f0499"
      },
      "execution_count": 4,
      "outputs": [
        {
          "output_type": "stream",
          "name": "stdout",
          "text": [
            "enter the percentage of students to obtain grade40\n",
            "grade E\n"
          ]
        }
      ]
    }
  ]
}