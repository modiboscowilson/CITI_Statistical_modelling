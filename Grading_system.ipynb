{
  "nbformat": 4,
  "nbformat_minor": 0,
  "metadata": {
    "colab": {
      "provenance": [],
      "authorship_tag": "ABX9TyPk7w2X1nt4UI1NYHeRTXsY",
      "include_colab_link": true
    },
    "kernelspec": {
      "name": "python3",
      "display_name": "Python 3"
    },
    "language_info": {
      "name": "python"
    }
  },
  "cells": [
    {
      "cell_type": "markdown",
      "metadata": {
        "id": "view-in-github",
        "colab_type": "text"
      },
      "source": [
        "<a href=\"https://colab.research.google.com/github/modiboscowilson/CITI_Statistical_modelling/blob/main/Grading_system.ipynb\" target=\"_parent\"><img src=\"https://colab.research.google.com/assets/colab-badge.svg\" alt=\"Open In Colab\"/></a>"
      ]
    },
    {
      "cell_type": "markdown",
      "source": [
        "Grading system for student"
      ],
      "metadata": {
        "id": "JOfzeiZuYve3"
      }
    },
    {
      "cell_type": "code",
      "source": [
        "#Calculate the grade of students when percentage is given\n",
        "#percentage above 90 print grade A\n",
        "#perecntage above 70 print grade B\n",
        "#percentage above 50 print grade C\n",
        "#percentage above 45 print grade D\n",
        "#percentage above 40 print grade E\n",
        "#percentage below 39 print FAIL\n",
        "per=float(input(\"enter the percentage of students to obtain grade\"))\n",
        "if per>=90 and per<100:\n",
        "  print(\"grade A\")\n",
        "elif per>=70 and per<90:\n",
        "  print(\"grade B\")\n",
        "elif per>=50 and per<70:\n",
        "  print(\"grade C\")\n",
        "elif per>=45 and per<50:\n",
        "  print(\"grade D\")\n",
        "elif per>=40 and per<45:\n",
        "  print(\"grade E\")\n",
        "elif per<39:\n",
        "  print(\"FAIL\")\n",
        "else:\n",
        "  print(\"invaid\")"
      ],
      "metadata": {
        "id": "LFCbv5PH0ik9",
        "colab": {
          "base_uri": "https://localhost:8080/"
        },
        "outputId": "b2acc2b2-18ec-4c55-962d-aeabfb8f0499"
      },
      "execution_count": 4,
      "outputs": [
        {
          "output_type": "stream",
          "name": "stdout",
          "text": [
            "enter the percentage of students to obtain grade40\n",
            "grade E\n"
          ]
        }
      ]
    },
    {
      "cell_type": "code",
      "source": [
        "\n",
        "# s is the letter_square shape\n",
        "# r is the letter_ rectangle shape\n",
        "# c is the letter_ circle shape\n",
        "# calculate the area of different shapes based on input letters\n",
        "letter=[\"s\",\"r\",\"c\"]\n",
        "area=input(\"please enter letter to determine the choice of shape to calculate the area\")\n",
        "if letter==(\"s\"):\n",
        "  print(\"calculate_square_area\")\n",
        "elif letter==(\"r\"):\n",
        "  print(\"calculate_rectangle_area\")\n",
        "elif letter==(\"c\"):\n",
        "  print(\"calculate_circle_area\")\n",
        ""
      ],
      "metadata": {
        "id": "dfIoXu03q-NP"
      },
      "execution_count": null,
      "outputs": []
    },
    {
      "cell_type": "code",
      "source": [
        "# s is the letter_square shape\n",
        "# r is the letter_ rectangle shape\n",
        "# c is the letter_ circle shape\n",
        "# calculate the area of different shapes based on input letters\n",
        "letter=[\"s\",\"r\",\"c\"]\n",
        "area=input(\"please enter letter to determine the choice of shape to calculate the area\")\n",
        "if letter==(\"s\"):\n",
        "  print(\"calculate_square_area\")\n",
        "elif letter==(\"r\"):\n",
        "  print(\"calculate_rectangle_area\")\n",
        "elif letter==(\"c\"):\n",
        "  print(\"calculate_circle_area\")"
      ],
      "metadata": {
        "id": "BM6UarkL2eJw"
      },
      "execution_count": null,
      "outputs": []
    }
  ]
}