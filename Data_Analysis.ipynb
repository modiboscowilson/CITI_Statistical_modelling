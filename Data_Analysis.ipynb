{
  "nbformat": 4,
  "nbformat_minor": 0,
  "metadata": {
    "colab": {
      "provenance": [],
      "authorship_tag": "ABX9TyOvBtsL2sSsCcPJp53BM2W8",
      "include_colab_link": true
    },
    "kernelspec": {
      "name": "python3",
      "display_name": "Python 3"
    },
    "language_info": {
      "name": "python"
    }
  },
  "cells": [
    {
      "cell_type": "markdown",
      "metadata": {
        "id": "view-in-github",
        "colab_type": "text"
      },
      "source": [
        "<a href=\"https://colab.research.google.com/github/modiboscowilson/CITI_Statistical_modelling/blob/main/Data_Analysis.ipynb\" target=\"_parent\"><img src=\"https://colab.research.google.com/assets/colab-badge.svg\" alt=\"Open In Colab\"/></a>"
      ]
    },
    {
      "cell_type": "code",
      "execution_count": null,
      "metadata": {
        "id": "mjuKnyFzTUnG"
      },
      "outputs": [],
      "source": []
    },
    {
      "cell_type": "markdown",
      "source": [
        "How to read CSV file"
      ],
      "metadata": {
        "id": "LJ1bkwyGThXi"
      }
    },
    {
      "cell_type": "code",
      "source": [
        "# import csv format file\n",
        "import pandas as pd\n",
        "df=pd.read_csv(\"StrengthData.csv\")\n",
        "print(df)"
      ],
      "metadata": {
        "colab": {
          "base_uri": "https://localhost:8080/"
        },
        "id": "07fek2ANTpky",
        "outputId": "dcf7de09-6088-4ca4-82cd-c81ab5539fca"
      },
      "execution_count": 7,
      "outputs": [
        {
          "output_type": "stream",
          "name": "stdout",
          "text": [
            "      CementComponent   BlastFurnaceSlag  FlyAshComponent  WaterComponent  \\\n",
            "0                540.0               0.0              0.0           162.0   \n",
            "1                540.0               0.0              0.0           162.0   \n",
            "2                332.5             142.5              0.0           228.0   \n",
            "3                332.5             142.5              0.0           228.0   \n",
            "4                198.6             132.4              0.0           192.0   \n",
            "...                ...               ...              ...             ...   \n",
            "1025             276.4             116.0             90.3           179.6   \n",
            "1026             322.2               0.0            115.6           196.0   \n",
            "1027             148.5             139.4            108.6           192.7   \n",
            "1028             159.1             186.7              0.0           175.6   \n",
            "1029             260.9             100.5             78.3           200.6   \n",
            "\n",
            "      SuperplasticizerComponent  CoarseAggregateComponent  \\\n",
            "0                           2.5                    1040.0   \n",
            "1                           2.5                    1055.0   \n",
            "2                           0.0                     932.0   \n",
            "3                           0.0                     932.0   \n",
            "4                           0.0                     978.4   \n",
            "...                         ...                       ...   \n",
            "1025                        8.9                     870.1   \n",
            "1026                       10.4                     817.9   \n",
            "1027                        6.1                     892.4   \n",
            "1028                       11.3                     989.6   \n",
            "1029                        8.6                     864.5   \n",
            "\n",
            "      FineAggregateComponent  AgeInDays  Strength  \n",
            "0                      676.0         28     79.99  \n",
            "1                      676.0         28     61.89  \n",
            "2                      594.0        270     40.27  \n",
            "3                      594.0        365     41.05  \n",
            "4                      825.5        360     44.30  \n",
            "...                      ...        ...       ...  \n",
            "1025                   768.3         28     44.28  \n",
            "1026                   813.4         28     31.18  \n",
            "1027                   780.0         28     23.70  \n",
            "1028                   788.9         28     32.77  \n",
            "1029                   761.5         28     32.40  \n",
            "\n",
            "[1030 rows x 9 columns]\n"
          ]
        }
      ]
    },
    {
      "cell_type": "markdown",
      "source": [
        "**Explortory Data Analysis**"
      ],
      "metadata": {
        "id": "XlMIdE-Aw85n"
      }
    },
    {
      "cell_type": "code",
      "source": [
        "#checking the columns without data (null)\n",
        "df.isnull()\n",
        "print(df)"
      ],
      "metadata": {
        "colab": {
          "base_uri": "https://localhost:8080/"
        },
        "id": "EC4CP-UTVKcT",
        "outputId": "959fc100-2e05-480d-eac1-e2c0dfaab170"
      },
      "execution_count": 8,
      "outputs": [
        {
          "output_type": "stream",
          "name": "stdout",
          "text": [
            "      CementComponent   BlastFurnaceSlag  FlyAshComponent  WaterComponent  \\\n",
            "0                540.0               0.0              0.0           162.0   \n",
            "1                540.0               0.0              0.0           162.0   \n",
            "2                332.5             142.5              0.0           228.0   \n",
            "3                332.5             142.5              0.0           228.0   \n",
            "4                198.6             132.4              0.0           192.0   \n",
            "...                ...               ...              ...             ...   \n",
            "1025             276.4             116.0             90.3           179.6   \n",
            "1026             322.2               0.0            115.6           196.0   \n",
            "1027             148.5             139.4            108.6           192.7   \n",
            "1028             159.1             186.7              0.0           175.6   \n",
            "1029             260.9             100.5             78.3           200.6   \n",
            "\n",
            "      SuperplasticizerComponent  CoarseAggregateComponent  \\\n",
            "0                           2.5                    1040.0   \n",
            "1                           2.5                    1055.0   \n",
            "2                           0.0                     932.0   \n",
            "3                           0.0                     932.0   \n",
            "4                           0.0                     978.4   \n",
            "...                         ...                       ...   \n",
            "1025                        8.9                     870.1   \n",
            "1026                       10.4                     817.9   \n",
            "1027                        6.1                     892.4   \n",
            "1028                       11.3                     989.6   \n",
            "1029                        8.6                     864.5   \n",
            "\n",
            "      FineAggregateComponent  AgeInDays  Strength  \n",
            "0                      676.0         28     79.99  \n",
            "1                      676.0         28     61.89  \n",
            "2                      594.0        270     40.27  \n",
            "3                      594.0        365     41.05  \n",
            "4                      825.5        360     44.30  \n",
            "...                      ...        ...       ...  \n",
            "1025                   768.3         28     44.28  \n",
            "1026                   813.4         28     31.18  \n",
            "1027                   780.0         28     23.70  \n",
            "1028                   788.9         28     32.77  \n",
            "1029                   761.5         28     32.40  \n",
            "\n",
            "[1030 rows x 9 columns]\n"
          ]
        }
      ]
    },
    {
      "cell_type": "code",
      "source": [
        "# To describe the data\n",
        "df.describe()\n",
        "print(df)"
      ],
      "metadata": {
        "id": "JZscvLxdVs1a"
      },
      "execution_count": null,
      "outputs": []
    },
    {
      "cell_type": "code",
      "source": [
        "# To show the nunique data\n",
        "df.nunique()\n",
        "print(df)"
      ],
      "metadata": {
        "id": "Xso3ZiGQWaLB"
      },
      "execution_count": null,
      "outputs": []
    },
    {
      "cell_type": "markdown",
      "source": [
        "**Visualization Data Analysis**\n",
        "\n",
        "**Note**:Visualization Data Analysis helps to determine the type of curves for ease analysis weather its bell curve or skewness curve"
      ],
      "metadata": {
        "id": "ktosUtUgXocX"
      }
    },
    {
      "cell_type": "code",
      "source": [
        "#method 1\n",
        "#Represent the data in a histogram graph for strength\n",
        "import pandas as pd\n",
        "df['Strength'].hist()\n",
        "plt.xlabel('Strength')\n",
        "plt.ylabel('frequency')\n",
        "plt.title('histogram graph')\n",
        "plt.show()\n",
        "#The histogram graph shows a belled curve"
      ],
      "metadata": {
        "colab": {
          "base_uri": "https://localhost:8080/",
          "height": 472
        },
        "id": "-KTCmjS_Xwvh",
        "outputId": "6ac5c22d-a360-4bc6-b036-ec3933cb5b53"
      },
      "execution_count": 9,
      "outputs": [
        {
          "output_type": "display_data",
          "data": {
            "text/plain": [
              "<Figure size 640x480 with 1 Axes>"
            ],
            "image/png": "[encoded data removed]"
          },
          "metadata": {}
        }
      ]
    },
    {
      "cell_type": "code",
      "source": [
        "#method 2\n",
        "#Represent the data in a histogram graph for strength\n",
        "import matplotlib.pyplot as plt\n",
        "import seaborn as sns\n",
        "sns.histplot( data=df, x='Strength')\n",
        "plt.xlabel('Strength')\n",
        "plt.ylabel('frequency')\n",
        "plt.title('histogram graph')\n",
        "plt.show()\n",
        "#The histogram graph shows a belled curve"
      ],
      "metadata": {
        "colab": {
          "base_uri": "https://localhost:8080/",
          "height": 472
        },
        "id": "PiyU5Ghx5DWN",
        "outputId": "cb6a9c97-396f-405a-fe16-f66eace16e4e"
      },
      "execution_count": 10,
      "outputs": [
        {
          "output_type": "display_data",
          "data": {
            "text/plain": [
              "<Figure size 640x480 with 1 Axes>"
            ],
            "image/png": "[encoded data removed]"
          },
          "metadata": {}
        }
      ]
    },
    {
      "cell_type": "code",
      "source": [
        "#method 1\n",
        "#Histogram Graph for Cementcomponent\n",
        "df['CementComponent '].hist()\n",
        "#The histogram graph shows a belled curve"
      ],
      "metadata": {
        "id": "qF3G2LdSZuyP"
      },
      "execution_count": null,
      "outputs": []
    },
    {
      "cell_type": "code",
      "source": [
        "#method 2\n",
        "#Represent the data in a histogram graph for strength\n",
        "import matplotlib.pyplot as plt\n",
        "import seaborn as sns\n",
        "sns.histplot( data=df, x='CementComponent ')\n",
        "plt.xlabel('CementComponent')\n",
        "plt.ylabel('frequency')\n",
        "plt.title('histogram graph')\n",
        "plt.show()\n",
        "#The histogram graph shows a belled curve"
      ],
      "metadata": {
        "id": "SkjqsnEOI0lX"
      },
      "execution_count": null,
      "outputs": []
    },
    {
      "cell_type": "code",
      "source": [
        "#method 1\n",
        "#Histogram Graph for watercomponent\n",
        "df['WaterComponent'].hist()\n",
        "#The histogram graph shows a belled curve"
      ],
      "metadata": {
        "id": "fJgcmawfxtme"
      },
      "execution_count": null,
      "outputs": []
    },
    {
      "cell_type": "code",
      "source": [
        "#method 2\n",
        "#Represent the data in a histogram graph for strength\n",
        "import matplotlib.pyplot as plt\n",
        "import seaborn as sns\n",
        "sns.histplot( data=df, x='WaterComponent')\n",
        "plt.xlabel('WaterComponent')\n",
        "plt.ylabel('frequency')\n",
        "plt.title('histogram graph')\n",
        "plt.show()\n",
        "#The histogram graph shows a belled curve"
      ],
      "metadata": {
        "id": "0K-_A5mCI4iC"
      },
      "execution_count": null,
      "outputs": []
    },
    {
      "cell_type": "code",
      "source": [
        "#method 1\n",
        "#Histogram Graph for FlyAshComponent\n",
        "df['FlyAshComponent'].hist()\n",
        "#The histogram graph shows a skweness curve"
      ],
      "metadata": {
        "id": "zFjhwXMeyZjf"
      },
      "execution_count": null,
      "outputs": []
    },
    {
      "cell_type": "code",
      "source": [
        "#method 2\n",
        "#Represent the data in a histogram graph for strength\n",
        "import matplotlib.pyplot as plt\n",
        "import seaborn as sns\n",
        "sns.histplot( data=df, x='FlyAshComponent')\n",
        "plt.xlabel('sns.histplot( data=df, x')\n",
        "plt.ylabel('frequency')\n",
        "plt.title('histogram graph')\n",
        "plt.show()\n",
        "#The histogram graph shows a skweness curve"
      ],
      "metadata": {
        "id": "YFK1xLMJI51p"
      },
      "execution_count": null,
      "outputs": []
    },
    {
      "cell_type": "code",
      "source": [
        "#method 1\n",
        "#Histogram Graph for coarseAggregateComponent\n",
        "df['CoarseAggregateComponent'].hist()\n",
        "#The histogram graph shows a belled curve"
      ],
      "metadata": {
        "id": "pfy4IMXezAre"
      },
      "execution_count": null,
      "outputs": []
    },
    {
      "cell_type": "code",
      "source": [
        "#method 2\n",
        "#Represent the data in a histogram graph for strength\n",
        "import matplotlib.pyplot as plt\n",
        "import seaborn as sns\n",
        "sns.histplot( data=df, x='CoarseAggregateComponent')\n",
        "plt.xlabel('CoarseAggregateComponent')\n",
        "plt.ylabel('frequency')\n",
        "plt.title('histogram graph')\n",
        "plt.show()\n",
        "#The histogram graph shows a belled curve"
      ],
      "metadata": {
        "id": "tRHcdw6-I7Th"
      },
      "execution_count": null,
      "outputs": []
    },
    {
      "cell_type": "code",
      "source": [
        "#method 1\n",
        "#`Histogram Graph for FineAggregateComponent\n",
        "df['FineAggregateComponent'].hist()\n",
        "#The histogram graph shows a belled curve"
      ],
      "metadata": {
        "id": "nBzrDq4mzo_0"
      },
      "execution_count": null,
      "outputs": []
    },
    {
      "cell_type": "code",
      "source": [
        "#method 2\n",
        "#Represent the data in a histogram graph for strength\n",
        "import matplotlib.pyplot as plt\n",
        "import seaborn as sns\n",
        "sns.histplot( data=df, x='FineAggregateComponent')\n",
        "plt.xlabel('FineAggregateComponent')\n",
        "plt.ylabel('frequency')\n",
        "plt.title('histogram graph')\n",
        "plt.show()\n",
        "#The histogram graph shows a belled curve"
      ],
      "metadata": {
        "id": "o0MoxSk9I8lS"
      },
      "execution_count": null,
      "outputs": []
    },
    {
      "cell_type": "code",
      "source": [
        "#method 1\n",
        "#`Histogram Graph for SuperplasticizerComponent\n",
        "df['SuperplasticizerComponent'].hist()\n",
        "#The histogram graph shows a skweness curve"
      ],
      "metadata": {
        "colab": {
          "base_uri": "https://localhost:8080/",
          "height": 217
        },
        "id": "DefD_wui0IHV",
        "outputId": "84566428-6e2e-4b7c-cd5e-4727be132e53"
      },
      "execution_count": 2,
      "outputs": [
        {
          "output_type": "error",
          "ename": "NameError",
          "evalue": "ignored",
          "traceback": [
            "\u001b[0;31m---------------------------------------------------------------------------\u001b[0m",
            "\u001b[0;31mNameError\u001b[0m                                 Traceback (most recent call last)",
            "\u001b[0;32m<ipython-input-2-d556f312e289>\u001b[0m in \u001b[0;36m<cell line: 3>\u001b[0;34m()\u001b[0m\n\u001b[1;32m      1\u001b[0m \u001b[0;31m#method 1\u001b[0m\u001b[0;34m\u001b[0m\u001b[0;34m\u001b[0m\u001b[0m\n\u001b[1;32m      2\u001b[0m \u001b[0;31m#`Histogram Graph for SuperplasticizerComponent\u001b[0m\u001b[0;34m\u001b[0m\u001b[0;34m\u001b[0m\u001b[0m\n\u001b[0;32m----> 3\u001b[0;31m \u001b[0mdf\u001b[0m\u001b[0;34m[\u001b[0m\u001b[0;34m'SuperplasticizerComponent'\u001b[0m\u001b[0;34m]\u001b[0m\u001b[0;34m.\u001b[0m\u001b[0mhist\u001b[0m\u001b[0;34m(\u001b[0m\u001b[0;34m)\u001b[0m\u001b[0;34m\u001b[0m\u001b[0;34m\u001b[0m\u001b[0m\n\u001b[0m\u001b[1;32m      4\u001b[0m \u001b[0;31m#The histogram graph shows a skweness curve\u001b[0m\u001b[0;34m\u001b[0m\u001b[0;34m\u001b[0m\u001b[0m\n",
            "\u001b[0;31mNameError\u001b[0m: name 'df' is not defined"
          ]
        }
      ]
    },
    {
      "cell_type": "code",
      "source": [
        "#method 2\n",
        "#Represent the data in a histogram graph for strength\n",
        "import matplotlib.pyplot as plt\n",
        "import seaborn as sns\n",
        "sns.histplot( data=df, x='SuperplasticizerComponent')\n",
        "plt.xlabel('SuperplasticizerComponent')\n",
        "plt.ylabel('frequency')\n",
        "plt.title('histogram graph')\n",
        "plt.show()\n",
        "#The histogram graph shows a skweness curve"
      ],
      "metadata": {
        "id": "tEyoIYGxI9nC"
      },
      "execution_count": null,
      "outputs": []
    },
    {
      "cell_type": "markdown",
      "source": [
        "**Correlation Matrix**"
      ],
      "metadata": {
        "id": "eGkBHPD6za3U"
      }
    },
    {
      "cell_type": "code",
      "source": [
        "corr = df.corr()\n",
        "corr"
      ],
      "metadata": {
        "id": "UXSbGxOwzke7",
        "outputId": "2284a158-b119-4a4b-cb23-f4f38866fdd8",
        "colab": {
          "base_uri": "https://localhost:8080/",
          "height": 395
        }
      },
      "execution_count": 23,
      "outputs": [
        {
          "output_type": "execute_result",
          "data": {
            "text/plain": [
              "                           CementComponent   BlastFurnaceSlag  \\\n",
              "CementComponent                    1.000000         -0.275216   \n",
              "BlastFurnaceSlag                  -0.275216          1.000000   \n",
              "FlyAshComponent                   -0.397467         -0.323580   \n",
              "WaterComponent                    -0.081587          0.107252   \n",
              "SuperplasticizerComponent          0.092386          0.043270   \n",
              "CoarseAggregateComponent          -0.109349         -0.283999   \n",
              "FineAggregateComponent            -0.222718         -0.281603   \n",
              "AgeInDays                          0.081946         -0.044246   \n",
              "Strength                           0.497832          0.134829   \n",
              "\n",
              "                           FlyAshComponent  WaterComponent  \\\n",
              "CementComponent                  -0.397467       -0.081587   \n",
              "BlastFurnaceSlag                 -0.323580        0.107252   \n",
              "FlyAshComponent                   1.000000       -0.256984   \n",
              "WaterComponent                   -0.256984        1.000000   \n",
              "SuperplasticizerComponent         0.377503       -0.657533   \n",
              "CoarseAggregateComponent         -0.009961       -0.182294   \n",
              "FineAggregateComponent            0.079108       -0.450661   \n",
              "AgeInDays                        -0.154371        0.277618   \n",
              "Strength                         -0.105755       -0.289633   \n",
              "\n",
              "                           SuperplasticizerComponent  \\\n",
              "CementComponent                             0.092386   \n",
              "BlastFurnaceSlag                            0.043270   \n",
              "FlyAshComponent                             0.377503   \n",
              "WaterComponent                             -0.657533   \n",
              "SuperplasticizerComponent                   1.000000   \n",
              "CoarseAggregateComponent                   -0.265999   \n",
              "FineAggregateComponent                      0.222691   \n",
              "AgeInDays                                  -0.192700   \n",
              "Strength                                    0.366079   \n",
              "\n",
              "                           CoarseAggregateComponent  FineAggregateComponent  \\\n",
              "CementComponent                           -0.109349               -0.222718   \n",
              "BlastFurnaceSlag                          -0.283999               -0.281603   \n",
              "FlyAshComponent                           -0.009961                0.079108   \n",
              "WaterComponent                            -0.182294               -0.450661   \n",
              "SuperplasticizerComponent                 -0.265999                0.222691   \n",
              "CoarseAggregateComponent                   1.000000               -0.178481   \n",
              "FineAggregateComponent                    -0.178481                1.000000   \n",
              "AgeInDays                                 -0.003016               -0.156095   \n",
              "Strength                                  -0.164935               -0.167241   \n",
              "\n",
              "                           AgeInDays  Strength  \n",
              "CementComponent             0.081946  0.497832  \n",
              "BlastFurnaceSlag           -0.044246  0.134829  \n",
              "FlyAshComponent            -0.154371 -0.105755  \n",
              "WaterComponent              0.277618 -0.289633  \n",
              "SuperplasticizerComponent  -0.192700  0.366079  \n",
              "CoarseAggregateComponent   -0.003016 -0.164935  \n",
              "FineAggregateComponent     -0.156095 -0.167241  \n",
              "AgeInDays                   1.000000  0.328873  \n",
              "Strength                    0.328873  1.000000  "
            ],
            "text/html": [
              "\n",
              "\n",
              "  <div id=\"df-1d94f392-db30-4632-85aa-701291283aac\">\n",
              "    <div class=\"colab-df-container\">\n",
              "      <div>\n",
              "<style scoped>\n",
              "    .dataframe tbody tr th:only-of-type {\n",
              "        vertical-align: middle;\n",
              "    }\n",
              "\n",
              "    .dataframe tbody tr th {\n",
              "        vertical-align: top;\n",
              "    }\n",
              "\n",
              "    .dataframe thead th {\n",
              "        text-align: right;\n",
              "    }\n",
              "</style>\n",
              "<table border=\"1\" class=\"dataframe\">\n",
              "  <thead>\n",
              "    <tr style=\"text-align: right;\">\n",
              "      <th></th>\n",
              "      <th>CementComponent</th>\n",
              "      <th>BlastFurnaceSlag</th>\n",
              "      <th>FlyAshComponent</th>\n",
              "      <th>WaterComponent</th>\n",
              "      <th>SuperplasticizerComponent</th>\n",
              "      <th>CoarseAggregateComponent</th>\n",
              "      <th>FineAggregateComponent</th>\n",
              "      <th>AgeInDays</th>\n",
              "      <th>Strength</th>\n",
              "    </tr>\n",
              "  </thead>\n",
              "  <tbody>\n",
              "    <tr>\n",
              "      <th>CementComponent</th>\n",
              "      <td>1.000000</td>\n",
              "      <td>-0.275216</td>\n",
              "      <td>-0.397467</td>\n",
              "      <td>-0.081587</td>\n",
              "      <td>0.092386</td>\n",
              "      <td>-0.109349</td>\n",
              "      <td>-0.222718</td>\n",
              "      <td>0.081946</td>\n",
              "      <td>0.497832</td>\n",
              "    </tr>\n",
              "    <tr>\n",
              "      <th>BlastFurnaceSlag</th>\n",
              "      <td>-0.275216</td>\n",
              "      <td>1.000000</td>\n",
              "      <td>-0.323580</td>\n",
              "      <td>0.107252</td>\n",
              "      <td>0.043270</td>\n",
              "      <td>-0.283999</td>\n",
              "      <td>-0.281603</td>\n",
              "      <td>-0.044246</td>\n",
              "      <td>0.134829</td>\n",
              "    </tr>\n",
              "    <tr>\n",
              "      <th>FlyAshComponent</th>\n",
              "      <td>-0.397467</td>\n",
              "      <td>-0.323580</td>\n",
              "      <td>1.000000</td>\n",
              "      <td>-0.256984</td>\n",
              "      <td>0.377503</td>\n",
              "      <td>-0.009961</td>\n",
              "      <td>0.079108</td>\n",
              "      <td>-0.154371</td>\n",
              "      <td>-0.105755</td>\n",
              "    </tr>\n",
              "    <tr>\n",
              "      <th>WaterComponent</th>\n",
              "      <td>-0.081587</td>\n",
              "      <td>0.107252</td>\n",
              "      <td>-0.256984</td>\n",
              "      <td>1.000000</td>\n",
              "      <td>-0.657533</td>\n",
              "      <td>-0.182294</td>\n",
              "      <td>-0.450661</td>\n",
              "      <td>0.277618</td>\n",
              "      <td>-0.289633</td>\n",
              "    </tr>\n",
              "    <tr>\n",
              "      <th>SuperplasticizerComponent</th>\n",
              "      <td>0.092386</td>\n",
              "      <td>0.043270</td>\n",
              "      <td>0.377503</td>\n",
              "      <td>-0.657533</td>\n",
              "      <td>1.000000</td>\n",
              "      <td>-0.265999</td>\n",
              "      <td>0.222691</td>\n",
              "      <td>-0.192700</td>\n",
              "      <td>0.366079</td>\n",
              "    </tr>\n",
              "    <tr>\n",
              "      <th>CoarseAggregateComponent</th>\n",
              "      <td>-0.109349</td>\n",
              "      <td>-0.283999</td>\n",
              "      <td>-0.009961</td>\n",
              "      <td>-0.182294</td>\n",
              "      <td>-0.265999</td>\n",
              "      <td>1.000000</td>\n",
              "      <td>-0.178481</td>\n",
              "      <td>-0.003016</td>\n",
              "      <td>-0.164935</td>\n",
              "    </tr>\n",
              "    <tr>\n",
              "      <th>FineAggregateComponent</th>\n",
              "      <td>-0.222718</td>\n",
              "      <td>-0.281603</td>\n",
              "      <td>0.079108</td>\n",
              "      <td>-0.450661</td>\n",
              "      <td>0.222691</td>\n",
              "      <td>-0.178481</td>\n",
              "      <td>1.000000</td>\n",
              "      <td>-0.156095</td>\n",
              "      <td>-0.167241</td>\n",
              "    </tr>\n",
              "    <tr>\n",
              "      <th>AgeInDays</th>\n",
              "      <td>0.081946</td>\n",
              "      <td>-0.044246</td>\n",
              "      <td>-0.154371</td>\n",
              "      <td>0.277618</td>\n",
              "      <td>-0.192700</td>\n",
              "      <td>-0.003016</td>\n",
              "      <td>-0.156095</td>\n",
              "      <td>1.000000</td>\n",
              "      <td>0.328873</td>\n",
              "    </tr>\n",
              "    <tr>\n",
              "      <th>Strength</th>\n",
              "      <td>0.497832</td>\n",
              "      <td>0.134829</td>\n",
              "      <td>-0.105755</td>\n",
              "      <td>-0.289633</td>\n",
              "      <td>0.366079</td>\n",
              "      <td>-0.164935</td>\n",
              "      <td>-0.167241</td>\n",
              "      <td>0.328873</td>\n",
              "      <td>1.000000</td>\n",
              "    </tr>\n",
              "  </tbody>\n",
              "</table>\n",
              "</div>\n",
              "      <button class=\"colab-df-convert\" onclick=\"convertToInteractive('df-1d94f392-db30-4632-85aa-701291283aac')\"\n",
              "              title=\"Convert this dataframe to an interactive table.\"\n",
              "              style=\"display:none;\">\n",
              "\n",
              "  <svg xmlns=\"http://www.w3.org/2000/svg\" height=\"24px\"viewBox=\"0 0 24 24\"\n",
              "       width=\"24px\">\n",
              "    <path d=\"M0 0h24v24H0V0z\" fill=\"none\"/>\n",
              "    <path d=\"M18.56 5.44l.94 2.06.94-2.06 2.06-.94-2.06-.94-.94-2.06-.94 2.06-2.06.94zm-11 1L8.5 8.5l.94-2.06 2.06-.94-2.06-.94L8.5 2.5l-.94 2.06-2.06.94zm10 10l.94 2.06.94-2.06 2.06-.94-2.06-.94-.94-2.06-.94 2.06-2.06.94z\"/><path d=\"M17.41 7.96l-1.37-1.37c-.4-.4-.92-.59-1.43-.59-.52 0-1.04.2-1.43.59L10.3 9.45l-7.72 7.72c-.78.78-.78 2.05 0 2.83L4 21.41c.39.39.9.59 1.41.59.51 0 1.02-.2 1.41-.59l7.78-7.78 2.81-2.81c.8-.78.8-2.07 0-2.86zM5.41 20L4 18.59l7.72-7.72 1.47 1.35L5.41 20z\"/>\n",
              "  </svg>\n",
              "      </button>\n",
              "\n",
              "\n",
              "\n",
              "    <div id=\"df-da2e1140-9c51-4c2b-8cfb-21ff0aa80d22\">\n",
              "      <button class=\"colab-df-quickchart\" onclick=\"quickchart('df-da2e1140-9c51-4c2b-8cfb-21ff0aa80d22')\"\n",
              "              title=\"Suggest charts.\"\n",
              "              style=\"display:none;\">\n",
              "\n",
              "<svg xmlns=\"http://www.w3.org/2000/svg\" height=\"24px\"viewBox=\"0 0 24 24\"\n",
              "     width=\"24px\">\n",
              "    <g>\n",
              "        <path d=\"M19 3H5c-1.1 0-2 .9-2 2v14c0 1.1.9 2 2 2h14c1.1 0 2-.9 2-2V5c0-1.1-.9-2-2-2zM9 17H7v-7h2v7zm4 0h-2V7h2v10zm4 0h-2v-4h2v4z\"/>\n",
              "    </g>\n",
              "</svg>\n",
              "      </button>\n",
              "    </div>\n",
              "\n",
              "<style>\n",
              "  .colab-df-quickchart {\n",
              "    background-color: #E8F0FE;\n",
              "    border: none;\n",
              "    border-radius: 50%;\n",
              "    cursor: pointer;\n",
              "    display: none;\n",
              "    fill: #1967D2;\n",
              "    height: 32px;\n",
              "    padding: 0 0 0 0;\n",
              "    width: 32px;\n",
              "  }\n",
              "\n",
              "  .colab-df-quickchart:hover {\n",
              "    background-color: #E2EBFA;\n",
              "    box-shadow: 0px 1px 2px rgba(60, 64, 67, 0.3), 0px 1px 3px 1px rgba(60, 64, 67, 0.15);\n",
              "    fill: #174EA6;\n",
              "  }\n",
              "\n",
              "  [theme=dark] .colab-df-quickchart {\n",
              "    background-color: #3B4455;\n",
              "    fill: #D2E3FC;\n",
              "  }\n",
              "\n",
              "  [theme=dark] .colab-df-quickchart:hover {\n",
              "    background-color: #434B5C;\n",
              "    box-shadow: 0px 1px 3px 1px rgba(0, 0, 0, 0.15);\n",
              "    filter: drop-shadow(0px 1px 2px rgba(0, 0, 0, 0.3));\n",
              "    fill: #FFFFFF;\n",
              "  }\n",
              "</style>\n",
              "\n",
              "    <script>\n",
              "      async function quickchart(key) {\n",
              "        const containerElement = document.querySelector('#' + key);\n",
              "        const charts = await google.colab.kernel.invokeFunction(\n",
              "            'suggestCharts', [key], {});\n",
              "      }\n",
              "    </script>\n",
              "\n",
              "      <script>\n",
              "\n",
              "function displayQuickchartButton(domScope) {\n",
              "  let quickchartButtonEl =\n",
              "    domScope.querySelector('#df-da2e1140-9c51-4c2b-8cfb-21ff0aa80d22 button.colab-df-quickchart');\n",
              "  quickchartButtonEl.style.display =\n",
              "    google.colab.kernel.accessAllowed ? 'block' : 'none';\n",
              "}\n",
              "\n",
              "        displayQuickchartButton(document);\n",
              "      </script>\n",
              "      <style>\n",
              "    .colab-df-container {\n",
              "      display:flex;\n",
              "      flex-wrap:wrap;\n",
              "      gap: 12px;\n",
              "    }\n",
              "\n",
              "    .colab-df-convert {\n",
              "      background-color: #E8F0FE;\n",
              "      border: none;\n",
              "      border-radius: 50%;\n",
              "      cursor: pointer;\n",
              "      display: none;\n",
              "      fill: #1967D2;\n",
              "      height: 32px;\n",
              "      padding: 0 0 0 0;\n",
              "      width: 32px;\n",
              "    }\n",
              "\n",
              "    .colab-df-convert:hover {\n",
              "      background-color: #E2EBFA;\n",
              "      box-shadow: 0px 1px 2px rgba(60, 64, 67, 0.3), 0px 1px 3px 1px rgba(60, 64, 67, 0.15);\n",
              "      fill: #174EA6;\n",
              "    }\n",
              "\n",
              "    [theme=dark] .colab-df-convert {\n",
              "      background-color: #3B4455;\n",
              "      fill: #D2E3FC;\n",
              "    }\n",
              "\n",
              "    [theme=dark] .colab-df-convert:hover {\n",
              "      background-color: #434B5C;\n",
              "      box-shadow: 0px 1px 3px 1px rgba(0, 0, 0, 0.15);\n",
              "      filter: drop-shadow(0px 1px 2px rgba(0, 0, 0, 0.3));\n",
              "      fill: #FFFFFF;\n",
              "    }\n",
              "  </style>\n",
              "\n",
              "      <script>\n",
              "        const buttonEl =\n",
              "          document.querySelector('#df-1d94f392-db30-4632-85aa-701291283aac button.colab-df-convert');\n",
              "        buttonEl.style.display =\n",
              "          google.colab.kernel.accessAllowed ? 'block' : 'none';\n",
              "\n",
              "        async function convertToInteractive(key) {\n",
              "          const element = document.querySelector('#df-1d94f392-db30-4632-85aa-701291283aac');\n",
              "          const dataTable =\n",
              "            await google.colab.kernel.invokeFunction('convertToInteractive',\n",
              "                                                     [key], {});\n",
              "          if (!dataTable) return;\n",
              "\n",
              "          const docLinkHtml = 'Like what you see? Visit the ' +\n",
              "            '<a target=\"_blank\" href=https://colab.research.google.com/notebooks/data_table.ipynb>data table notebook</a>'\n",
              "            + ' to learn more about interactive tables.';\n",
              "          element.innerHTML = '';\n",
              "          dataTable['output_type'] = 'display_data';\n",
              "          await google.colab.output.renderOutput(dataTable, element);\n",
              "          const docLink = document.createElement('div');\n",
              "          docLink.innerHTML = docLinkHtml;\n",
              "          element.appendChild(docLink);\n",
              "        }\n",
              "      </script>\n",
              "    </div>\n",
              "  </div>\n"
            ]
          },
          "metadata": {},
          "execution_count": 23
        }
      ]
    },
    {
      "cell_type": "code",
      "source": [],
      "metadata": {
        "id": "0Pdvq3NDN3WI"
      },
      "execution_count": null,
      "outputs": []
    },
    {
      "cell_type": "code",
      "source": [
        "corr[\"strength\"]"
      ],
      "metadata": {
        "id": "Fm35VZOLbLTp"
      },
      "execution_count": null,
      "outputs": []
    }
  ]
}