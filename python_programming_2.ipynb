{
  "nbformat": 4,
  "nbformat_minor": 0,
  "metadata": {
    "colab": {
      "provenance": [],
      "authorship_tag": "ABX9TyOLH/EpX8bi/eMxXwRuuS8N",
      "include_colab_link": true
    },
    "kernelspec": {
      "name": "python3",
      "display_name": "Python 3"
    },
    "language_info": {
      "name": "python"
    }
  },
  "cells": [
    {
      "cell_type": "markdown",
      "metadata": {
        "id": "view-in-github",
        "colab_type": "text"
      },
      "source": [
        "<a href=\"https://colab.research.google.com/github/modiboscowilson/CITI_Statistical_modelling/blob/main/python_programming_2.ipynb\" target=\"_parent\"><img src=\"https://colab.research.google.com/assets/colab-badge.svg\" alt=\"Open In Colab\"/></a>"
      ]
    },
    {
      "cell_type": "markdown",
      "source": [
        "for loop example"
      ],
      "metadata": {
        "id": "kMU5_5QPJQqC"
      }
    },
    {
      "cell_type": "code",
      "execution_count": 1,
      "metadata": {
        "colab": {
          "base_uri": "https://localhost:8080/"
        },
        "id": "GdkeTf1KH4Nt",
        "outputId": "e9275a95-1295-4d2f-a661-c383f7c36c7a"
      },
      "outputs": [
        {
          "output_type": "stream",
          "name": "stdout",
          "text": [
            "apple\n",
            "banana\n",
            "cherry\n"
          ]
        }
      ],
      "source": [
        "#for loop example\n",
        "fruits=[\"apple\",\"banana\",\"cherry\"]\n",
        "for fruit in fruits:\n",
        "  print(fruit)"
      ]
    },
    {
      "cell_type": "code",
      "source": [
        "#numerical numbers additions\n",
        "numbers=[2,4,6]\n",
        "for number in numbers:\n",
        "  number=number +2\n",
        "  print(number)\n",
        "\n",
        "\n"
      ],
      "metadata": {
        "colab": {
          "base_uri": "https://localhost:8080/"
        },
        "id": "_Y3Bv3sAK87R",
        "outputId": "394c912a-89ff-4d0b-9b23-87a0232c09cf"
      },
      "execution_count": 3,
      "outputs": [
        {
          "output_type": "stream",
          "name": "stdout",
          "text": [
            "4\n",
            "6\n",
            "8\n"
          ]
        }
      ]
    },
    {
      "cell_type": "code",
      "source": [
        "#while loop condition\n",
        "count=0\n",
        "while count<5:\n",
        "  print(\"count:\",count)\n",
        "  count=count+1"
      ],
      "metadata": {
        "colab": {
          "base_uri": "https://localhost:8080/"
        },
        "id": "b3eX_dSTNKla",
        "outputId": "e1179275-2512-45a9-b95f-e192e54f7d71"
      },
      "execution_count": 4,
      "outputs": [
        {
          "output_type": "stream",
          "name": "stdout",
          "text": [
            "count: 0\n",
            "count: 1\n",
            "count: 2\n",
            "count: 3\n",
            "count: 4\n"
          ]
        }
      ]
    },
    {
      "cell_type": "code",
      "source": [
        "#creating a new function name\n",
        "def greet():\n",
        "  print(\"hello,modi bosco!\")"
      ],
      "metadata": {
        "id": "qSVpgWX9PP7g"
      },
      "execution_count": 5,
      "outputs": []
    },
    {
      "cell_type": "code",
      "source": [
        "greet()"
      ],
      "metadata": {
        "colab": {
          "base_uri": "https://localhost:8080/"
        },
        "id": "aY7KnfKpP4KK",
        "outputId": "e9009252-4594-412a-e382-f1b2d91f69d8"
      },
      "execution_count": 7,
      "outputs": [
        {
          "output_type": "stream",
          "name": "stdout",
          "text": [
            "hello,modi bosco!\n"
          ]
        }
      ]
    },
    {
      "cell_type": "code",
      "source": [
        "def greet(name):\n",
        "  print(\"hello,\",name)"
      ],
      "metadata": {
        "id": "u9AJzGXBQbwg"
      },
      "execution_count": 8,
      "outputs": []
    },
    {
      "cell_type": "code",
      "source": [
        "greet(\"modi bosco\")"
      ],
      "metadata": {
        "colab": {
          "base_uri": "https://localhost:8080/"
        },
        "id": "QVkHX_yxRXNJ",
        "outputId": "d90171c4-bc28-4e2a-e36b-836591b25449"
      },
      "execution_count": 9,
      "outputs": [
        {
          "output_type": "stream",
          "name": "stdout",
          "text": [
            "hello, modi bosco\n"
          ]
        }
      ]
    },
    {
      "cell_type": "code",
      "source": [
        "#Return statement\n",
        "def add(a,b):\n",
        "  return a+b\n",
        "\n",
        "result=add(2,4)\n",
        "print(result)#output:6"
      ],
      "metadata": {
        "colab": {
          "base_uri": "https://localhost:8080/"
        },
        "id": "uAWGjSXYSLux",
        "outputId": "0b9126e1-a77d-424c-8978-8cc6fe4ccc53"
      },
      "execution_count": 10,
      "outputs": [
        {
          "output_type": "stream",
          "name": "stdout",
          "text": [
            "6\n"
          ]
        }
      ]
    },
    {
      "cell_type": "code",
      "source": [
        "#Return statement\n",
        "def add(a,b):\n",
        "  print(a+b)\n",
        "\n",
        "add(2,4)"
      ],
      "metadata": {
        "colab": {
          "base_uri": "https://localhost:8080/"
        },
        "id": "dTiW0NBNTByY",
        "outputId": "66114362-d3d9-4a87-8131-34565d89cebf"
      },
      "execution_count": 13,
      "outputs": [
        {
          "output_type": "stream",
          "name": "stdout",
          "text": [
            "6\n"
          ]
        }
      ]
    }
  ]
}