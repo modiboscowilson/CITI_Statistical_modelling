{
  "cells": [
    {
      "cell_type": "markdown",
      "metadata": {
        "id": "view-in-github",
        "colab_type": "text"
      },
      "source": [
        "<a href=\"https://colab.research.google.com/github/modiboscowilson/CITI_Statistical_modelling/blob/main/Python_programming.ipynb\" target=\"_parent\"><img src=\"https://colab.research.google.com/assets/colab-badge.svg\" alt=\"Open In Colab\"/></a>"
      ]
    },
    {
      "cell_type": "markdown",
      "metadata": {
        "id": "w04Jl1FOGrZE"
      },
      "source": [
        "**Part 1**"
      ]
    },
    {
      "cell_type": "code",
      "execution_count": null,
      "metadata": {
        "id": "_ww2OM-aGYvR"
      },
      "outputs": [],
      "source": [
        "# printing hello world\n",
        "print(2)\n",
        "a=2\n",
        "b=3\n",
        "c=(a+b)*a\n",
        "print(\"the valve of c is \",c)"
      ]
    },
    {
      "cell_type": "code",
      "execution_count": 6,
      "metadata": {
        "colab": {
          "base_uri": "https://localhost:8080/"
        },
        "id": "Zr8fWnk5L9kr",
        "outputId": "76166d6d-9117-4441-c40c-e688e62d4b58"
      },
      "outputs": [
        {
          "output_type": "execute_result",
          "data": {
            "text/plain": [
              "str"
            ]
          },
          "metadata": {},
          "execution_count": 6
        }
      ],
      "source": [
        "#knowing the type of data\n",
        "type(2.5)\n",
        "\n"
      ]
    },
    {
      "cell_type": "code",
      "source": [
        "type(a)"
      ],
      "metadata": {
        "colab": {
          "base_uri": "https://localhost:8080/"
        },
        "id": "bjWdAx5QNVyL",
        "outputId": "8d6ad542-357d-4faf-9922-ca10537d32ad"
      },
      "execution_count": 7,
      "outputs": [
        {
          "output_type": "execute_result",
          "data": {
            "text/plain": [
              "int"
            ]
          },
          "metadata": {},
          "execution_count": 7
        }
      ]
    },
    {
      "cell_type": "code",
      "source": [
        "type(\"a\")"
      ],
      "metadata": {
        "colab": {
          "base_uri": "https://localhost:8080/"
        },
        "id": "LQJBp125NgQC",
        "outputId": "eac62010-d426-4529-d94c-6f89b201269f"
      },
      "execution_count": 8,
      "outputs": [
        {
          "output_type": "execute_result",
          "data": {
            "text/plain": [
              "str"
            ]
          },
          "metadata": {},
          "execution_count": 8
        }
      ]
    },
    {
      "cell_type": "code",
      "source": [
        "#print modi bosco wilson\n",
        "x=(\"modi bosco wilson\")\n",
        "print(x)\n",
        "print(\"modi bosco wilson\")"
      ],
      "metadata": {
        "colab": {
          "base_uri": "https://localhost:8080/"
        },
        "id": "2cAbNb2yN1kO",
        "outputId": "99018662-f813-4b26-8b32-6161f36bd81f"
      },
      "execution_count": 10,
      "outputs": [
        {
          "output_type": "stream",
          "name": "stdout",
          "text": [
            "modi bosco wilson\n",
            "modi bosco wilson\n"
          ]
        }
      ]
    },
    {
      "cell_type": "code",
      "source": [
        "#print my name\n",
        "d=('mayiga drake')\n",
        "print (d)\n",
        "print(\"mayiga drake\")\n"
      ],
      "metadata": {
        "colab": {
          "base_uri": "https://localhost:8080/"
        },
        "id": "Zt1RlvfLObuT",
        "outputId": "b7c7d9fe-6bba-4651-cc3e-34eab8696e43"
      },
      "execution_count": 13,
      "outputs": [
        {
          "output_type": "stream",
          "name": "stdout",
          "text": [
            "mayiga drake\n",
            "mayiga drake\n"
          ]
        }
      ]
    },
    {
      "cell_type": "code",
      "source": [
        "#conditional statement\n",
        "Age=20\n",
        "if Age < 18 :\n",
        "  print(\"you are underage.\")\n",
        "elif Age >=18 and Age < 21 :\n",
        "  print(\"you are eligible to vote but no to drink.\")\n",
        "else:\n",
        "  print(\"you are an adult.\")"
      ],
      "metadata": {
        "colab": {
          "base_uri": "https://localhost:8080/"
        },
        "id": "Gh-B5A_SRG_r",
        "outputId": "30fa6e5a-269b-4e8b-fe7d-8c01e4e3e2da"
      },
      "execution_count": 15,
      "outputs": [
        {
          "output_type": "stream",
          "name": "stdout",
          "text": [
            "you are eligible to vote but no to drink.\n"
          ]
        }
      ]
    },
    {
      "cell_type": "code",
      "source": [
        "y=input(\"enter first number\") # whatever comes from an input is a string\n",
        "type(y)"
      ],
      "metadata": {
        "colab": {
          "base_uri": "https://localhost:8080/"
        },
        "id": "9kVdilMDSbfD",
        "outputId": "a822f751-e181-48d5-8001-d08d1e1f29eb"
      },
      "execution_count": 17,
      "outputs": [
        {
          "name": "stdout",
          "output_type": "stream",
          "text": [
            "enter first number2\n"
          ]
        },
        {
          "output_type": "execute_result",
          "data": {
            "text/plain": [
              "str"
            ]
          },
          "metadata": {},
          "execution_count": 17
        }
      ]
    },
    {
      "cell_type": "code",
      "source": [
        "#to convert string to interger in case it comes from an input\n",
        "z=int(y)\n",
        "type(z)"
      ],
      "metadata": {
        "colab": {
          "base_uri": "https://localhost:8080/"
        },
        "id": "1eF4DfVuUYjD",
        "outputId": "5f214c5b-a151-4e49-9f04-a9cff489abd1"
      },
      "execution_count": 18,
      "outputs": [
        {
          "output_type": "execute_result",
          "data": {
            "text/plain": [
              "int"
            ]
          },
          "metadata": {},
          "execution_count": 18
        }
      ]
    },
    {
      "cell_type": "code",
      "source": [
        "#from intrger to float\n",
        "r=float(z)\n",
        "type(r)"
      ],
      "metadata": {
        "colab": {
          "base_uri": "https://localhost:8080/"
        },
        "id": "l0YA5oiSVFM6",
        "outputId": "0ecc0e87-63f8-4bbc-fb59-e7a7ea7cb7eb"
      },
      "execution_count": 19,
      "outputs": [
        {
          "output_type": "execute_result",
          "data": {
            "text/plain": [
              "float"
            ]
          },
          "metadata": {},
          "execution_count": 19
        }
      ]
    },
    {
      "cell_type": "code",
      "source": [
        "#from string to float\n",
        "s=float(y)\n",
        "type(s)"
      ],
      "metadata": {
        "colab": {
          "base_uri": "https://localhost:8080/"
        },
        "id": "wui-N79-VYJy",
        "outputId": "cd91018f-2b4a-4386-9f64-d939a420ed26"
      },
      "execution_count": 20,
      "outputs": [
        {
          "output_type": "execute_result",
          "data": {
            "text/plain": [
              "float"
            ]
          },
          "metadata": {},
          "execution_count": 20
        }
      ]
    },
    {
      "cell_type": "code",
      "source": [
        "#conditional statement\n",
        "Age=input(\"enter your age\")\n",
        "Age=int(Age)\n",
        "if Age < 18 :\n",
        "  print(\"you are underage.\")\n",
        "elif Age >=18 and Age < 21 :\n",
        "  print(\"you are eligible to vote but no to drink.\")\n",
        "else:\n",
        "  print(\"you are an adult.\")"
      ],
      "metadata": {
        "id": "0xFT34A7Shfr"
      },
      "execution_count": null,
      "outputs": []
    }
  ],
  "metadata": {
    "colab": {
      "provenance": [],
      "authorship_tag": "ABX9TyO6fek/WdU7ge69NIFdYxrp",
      "include_colab_link": true
    },
    "kernelspec": {
      "display_name": "Python 3",
      "name": "python3"
    },
    "language_info": {
      "name": "python"
    }
  },
  "nbformat": 4,
  "nbformat_minor": 0
}